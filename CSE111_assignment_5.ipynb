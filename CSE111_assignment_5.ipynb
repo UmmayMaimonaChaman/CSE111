{
  "cells": [
    {
      "cell_type": "code",
      "execution_count": null,
      "metadata": {
        "colab": {
          "base_uri": "https://localhost:8080/"
        },
        "id": "uPCCYR8g4-tv",
        "outputId": "00b18124-e724-4825-d751-65ac3ffb92f7"
      },
      "outputs": [
        {
          "name": "stdout",
          "output_type": "stream",
          "text": [
            "Quiz 1 (out of 10): 10\n",
            "Quiz 2 (out of 10): 10\n",
            "Lab (out of 30): 30\n",
            "Mid (out of 20): 20\n",
            "Final (out of 30): 30\n",
            "Total marks: 100\n"
          ]
        }
      ],
      "source": [
        "#TASK=1\n",
        "class Exam:\n",
        "    def __init__  (self, x):\n",
        "        self.mark = x\n",
        "\n",
        "    def __add__ (self, other):\n",
        "        a = self.mark + other.mark\n",
        "        objects = Exam(a)\n",
        "        return objects\n",
        "\n",
        "Q1 = Exam(int(input(\"Quiz 1 (out of 10): \")))\n",
        "Q2 = Exam(int(input(\"Quiz 2 (out of 10): \")))\n",
        "Lab = Exam(int(input(\"Lab (out of 30): \")))\n",
        "Mid = Exam(int(input(\"Mid (out of 20): \")))\n",
        "Final = Exam(int(input(\"Final (out of 30): \")))\n",
        "total = Q1 + Q2 + Lab + Mid + Final\n",
        "print(\"Total marks: {}\".format(total.mark))"
      ]
    },
    {
      "cell_type": "code",
      "execution_count": null,
      "metadata": {
        "colab": {
          "base_uri": "https://localhost:8080/"
        },
        "id": "MFrI0ML2852X",
        "outputId": "e368070e-fb58-41d7-a5e0-617e6f89206d"
      },
      "outputs": [
        {
          "output_type": "stream",
          "name": "stdout",
          "text": [
            "====================================\n",
            "Name: Saad Abdullah\n",
            "Department: CSE\n",
            "List of courses\n",
            "====================================\n",
            "CSE 110 Programming Language I\n",
            "CSE 111 Programming Language-II\n",
            "====================================\n",
            "====================================\n",
            "Name: Mumit Khan\n",
            "Department: CSE\n",
            "List of courses\n",
            "====================================\n",
            "CSE 220 Data Structures\n",
            "CSE 221 Algorithms\n",
            "CCSE 230 Discrete Mathematics\n",
            "====================================\n",
            "====================================\n",
            "Name: Sadia Kazi\n",
            "Department: CSE\n",
            "List of courses\n",
            "====================================\n",
            "CSE 310 Object Oriented Programming\n",
            "CSE 320 Data Communications\n",
            "CSE 340 Computer Architecture\n",
            "====================================\n"
          ]
        }
      ],
      "source": [
        "#TASK=2\n",
        "class Teacher:\n",
        "    def __init__ (self, n, d):\n",
        "        self.__name = n\n",
        "        self.__department = d\n",
        "        self.lst = []\n",
        "    def addCourse (self, lst):\n",
        "        (self.lst).append(lst)\n",
        "\n",
        "    def printDetail (self):\n",
        "        print (\"====================================\")\n",
        "        print (\"Name:\", self.__name)\n",
        "        print (\"Department:\",self.__department)\n",
        "        print (\"List of courses\")\n",
        "        print (\"====================================\")\n",
        "        for i in self.lst:\n",
        "            print (i)\n",
        "        print (\"====================================\")\n",
        "\n",
        "class Course:\n",
        "    def __init__ (self,x):\n",
        "        self.x = x\n",
        "    def __str__(self):\n",
        "       return self.x\n",
        "\n",
        "t1 = Teacher(\"Saad Abdullah\", \"CSE\")\n",
        "t2 = Teacher(\"Mumit Khan\", \"CSE\")\n",
        "t3 = Teacher(\"Sadia Kazi\", \"CSE\")\n",
        "c1 = Course(\"CSE 110 Programming Language I\")\n",
        "c2 = Course(\"CSE 111 Programming Language-II\")\n",
        "c3 = Course(\"CSE 220 Data Structures\")\n",
        "c4 = Course(\"CSE 221 Algorithms\")\n",
        "c5 = Course(\"CCSE 230 Discrete Mathematics\")\n",
        "c6 = Course(\"CSE 310 Object Oriented Programming\")\n",
        "c7 = Course(\"CSE 320 Data Communications\")\n",
        "c8 = Course(\"CSE 340 Computer Architecture\")\n",
        "t1.addCourse(c1)\n",
        "t1.addCourse(c2)\n",
        "t2.addCourse(c3)\n",
        "t2.addCourse(c4)\n",
        "t2.addCourse(c5)\n",
        "t3.addCourse(c6)\n",
        "t3.addCourse(c7)\n",
        "t3.addCourse(c8)\n",
        "t1.printDetail()\n",
        "t2.printDetail()\n",
        "t3.printDetail()\n"
      ]
    },
    {
      "cell_type": "code",
      "execution_count": null,
      "metadata": {
        "colab": {
          "base_uri": "https://localhost:8080/"
        },
        "id": "GdWks-_hqdfE",
        "outputId": "9ed1be3d-45bf-4af9-d40e-cf868fbb86ea"
      },
      "outputs": [
        {
          "output_type": "stream",
          "name": "stdout",
          "text": [
            "=============================================\n",
            "Team: Bangladesh\n",
            "List of Players:\n",
            "['Mashrafi', 'Tamim']\n",
            "=============================================\n",
            "=============================================\n",
            "Team: Australia\n",
            "List of Players:\n",
            "['Ponting', 'Lee']\n",
            "=============================================\n"
          ]
        }
      ],
      "source": [
        "#TASK=3\n",
        "class Player:\n",
        "  def __init__ (self, name):\n",
        "      self.name = name\n",
        "\n",
        "class Team:\n",
        "  def __init__ (self, country= None):\n",
        "      self.__player = []\n",
        "      self.__country = country\n",
        "  def setName (self, team):\n",
        "      self.__country = team\n",
        "\n",
        "  def addPlayer (self, x):\n",
        "      self.__player.append(x.name)\n",
        "\n",
        "  def printDetail(self):\n",
        "      print(\"=============================================\")\n",
        "      print(\"Team:\",self.__country)\n",
        "      print(\"List of Players:\")\n",
        "      print(self.__player)\n",
        "      print(\"=============================================\")\n",
        "\n",
        "\n",
        "b = Team()\n",
        "b.setName('Bangladesh')\n",
        "mashrafi = Player(\"Mashrafi\")\n",
        "b.addPlayer(mashrafi)\n",
        "tamim = Player(\"Tamim\")\n",
        "b.addPlayer(tamim)\n",
        "b.printDetail()\n",
        "a = Team(\"Australia\")\n",
        "ponting = Player(\"Ponting\")\n",
        "a.addPlayer(ponting)\n",
        "lee = Player(\"Lee\")\n",
        "a.addPlayer(lee)\n",
        "a.printDetail()\n"
      ]
    },
    {
      "cell_type": "code",
      "execution_count": null,
      "metadata": {
        "colab": {
          "base_uri": "https://localhost:8080/"
        },
        "id": "MDOsyQzYBNF3",
        "outputId": "632bf17a-1a7e-4ad9-efbb-0e4635c9411f"
      },
      "outputs": [
        {
          "name": "stdout",
          "output_type": "stream",
          "text": [
            "First Color: Red\n",
            "Second Color: Blue\n",
            "Color formed: Violet\n"
          ]
        }
      ],
      "source": [
        "#TASK=4\n",
        "class Color:\n",
        "  def __init__ (self, c):\n",
        "      self.clr = c\n",
        "  def __add__ (self, other):\n",
        "      if (self.clr == \"red\" or self.clr == \"yellow\") and (other.clr == \"red\" or other.clr == \"yellow\"):\n",
        "          obj = Color(\"Orange\")\n",
        "          return obj\n",
        "      if (self.clr == \"red\" or self.clr == \"blue\") and (other.clr == \"blue\" or other.clr == \"red\"):\n",
        "          obj = Color(\"Violet\")\n",
        "          return obj\n",
        "      else:\n",
        "          obj = Color(\"Green\")\n",
        "          return obj\n",
        "C1 = Color(input(\"First Color: \").lower())\n",
        "C2 = Color(input(\"Second Color: \").lower())\n",
        "C3 = C1 + C2\n",
        "print(\"Color formed:\", C3.clr)\n"
      ]
    },
    {
      "cell_type": "code",
      "execution_count": null,
      "metadata": {
        "colab": {
          "base_uri": "https://localhost:8080/"
        },
        "id": "rAAB3Vd4C36X",
        "outputId": "f8258ad0-758f-4811-b356-5a11f897f27e"
      },
      "outputs": [
        {
          "output_type": "stream",
          "name": "stdout",
          "text": [
            "First circle radius: 4\n",
            "First circle area: 50.26548245743669\n",
            "Second circle radius: 5\n",
            "Second circle area: 78.53981633974483\n",
            "Third circle radius: 9\n",
            "Third circle area: 254.46900494077323\n"
          ]
        }
      ],
      "source": [
        "#TASK=5\n",
        "class Circle:\n",
        "    def __init__ (self, r):\n",
        "        self.__radius = r\n",
        "    def setRadius (self,a):\n",
        "        self.__radius=a\n",
        "    def getRadius (self):\n",
        "        return self.__radius\n",
        "    def area (self):\n",
        "        import math\n",
        "        area = math.pi * self.__radius**2\n",
        "        return area\n",
        "    def __add__ (self, other):\n",
        "        addition = self.__radius + other.__radius\n",
        "        obj=Circle(addition)\n",
        "        return obj\n",
        "\n",
        "c1 = Circle(4)\n",
        "print(\"First circle radius:\" , c1.getRadius())\n",
        "print(\"First circle area:\" ,c1.area())\n",
        "\n",
        "c2 = Circle(5)\n",
        "print(\"Second circle radius:\" ,c2.getRadius())\n",
        "print(\"Second circle area:\" ,c2.area())\n",
        "\n",
        "c3 = c1 + c2\n",
        "print(\"Third circle radius:\" ,c3.getRadius())\n",
        "print(\"Third circle area:\" ,c3.area())\n",
        "\n"
      ]
    },
    {
      "cell_type": "code",
      "execution_count": null,
      "metadata": {
        "colab": {
          "base_uri": "https://localhost:8080/"
        },
        "id": "9rdYqgBWzogI",
        "outputId": "0b1cf301-d34b-4862-f923-4323cadeeda9"
      },
      "outputs": [
        {
          "output_type": "stream",
          "name": "stdout",
          "text": [
            "First Triangle Base: 10\n",
            "First Triangle Height: 5\n",
            "First Triangle area: 25.0\n",
            "Second Triangle Base: 5\n",
            "Second Triangle Height: 3\n",
            "Second Triangle area: 7.5\n",
            "Third Triangle Base: 5\n",
            "Third Triangle Height: 2\n",
            "Third Triangle area: 5.0\n"
          ]
        }
      ],
      "source": [
        "#TASK=6\n",
        "\n",
        "class Triangle:\n",
        "    def __init__ (self,base,height):\n",
        "        self.__base = base\n",
        "        self.__height = height\n",
        "\n",
        "    def getBase(self):\n",
        "        return self.__base\n",
        "    def setBase(self):\n",
        "        self.__base =base\n",
        "    def getHeight(self) :\n",
        "        return self.__height\n",
        "    def setHeight(self):\n",
        "        self.__height =height\n",
        "    def area(self):\n",
        "        area = 0.5 * self.__base * self.__height\n",
        "        return area\n",
        "\n",
        "    def __sub__(self, other):\n",
        "        self.__base = self.__base - other.__base\n",
        "        self.__height = self.__height - other.__height\n",
        "        return self\n",
        "\n",
        "t1 = Triangle(10, 5)\n",
        "print(\"First Triangle Base:\" , t1.getBase())\n",
        "print(\"First Triangle Height:\" , t1.getHeight())\n",
        "print(\"First Triangle area:\" ,t1.area())\n",
        "t2 = Triangle(5, 3)\n",
        "print(\"Second Triangle Base:\" , t2.getBase())\n",
        "print(\"Second Triangle Height:\" , t2.getHeight())\n",
        "print(\"Second Triangle area:\" ,t2.area())\n",
        "t3 = t1 - t2\n",
        "print(\"Third Triangle Base:\" , t3.getBase())\n",
        "print(\"Third Triangle Height:\" , t3.getHeight())\n",
        "print(\"Third Triangle area:\" ,t3.area())\n"
      ]
    },
    {
      "cell_type": "code",
      "source": [
        "# TASK 7\n",
        "class Dolls :\n",
        "  def __init__(self,d,p, flag = False) :\n",
        "    self.doll = d\n",
        "    self.price = p\n",
        "    self.flag = flag\n",
        "  def detail(self) :\n",
        "    if self.flag == True :\n",
        "      return(f'''Dolls: {self.doll}\n",
        "Total Price: {self.price} taka''')\n",
        "    else :\n",
        "      return(f'''Doll: {self.doll}\n",
        "Total Price: {self.price} taka''')\n",
        "\n",
        "  def __gt__(self, other) :\n",
        "    return self.price > other.price\n",
        "\n",
        "  def __add__(self, other) :\n",
        "    x = self.doll +' '+ other.doll\n",
        "    y = self.price + other.price\n",
        "    return Dolls(x, y, True)\n",
        "\n",
        "\n",
        "obj_1 = Dolls(\"Tweety\", 2500)\n",
        "print(obj_1.detail())\n",
        "if obj_1 > obj_1:\n",
        "    print(\"Congratulations! You get the Tweety as a gift!\")\n",
        "else:\n",
        "    print(\"Thank you!\")\n",
        "\n",
        "print(\"=========================\")\n",
        "obj_2 = Dolls(\"Daffy Duck\", 1800)\n",
        "print(obj_2.detail())\n",
        "if obj_2 > obj_1:\n",
        "    print(\"Congratulations! You get the Tweety as a gift!\")\n",
        "else:\n",
        "    print(\"Thank you!\")\n",
        "\n",
        "print(\"=========================\")\n",
        "obj_3 = Dolls(\"Bugs Bunny\", 3000)\n",
        "print(obj_3.detail())\n",
        "if obj_3 > obj_1:\n",
        "    print(\"Congratulations! You get the Tweety as a gift!\")\n",
        "else:\n",
        "    print(\"Thank you!\")\n",
        "\n",
        "print(\"=========================\")\n",
        "obj_4 = Dolls(\"Porky Pig\", 1500)\n",
        "print(obj_4.detail())\n",
        "if obj_4 > obj_1:\n",
        "    print(\"Congratulations! You get the Tweety as a gift!\")\n",
        "else:\n",
        "    print(\"Thank you!\")\n",
        "\n",
        "print(\"=========================\")\n",
        "obj_5 = obj_2 + obj_3\n",
        "print(obj_5.detail())\n",
        "if obj_5 > obj_1:\n",
        "    print(\"Congratulations! You get the Tweety as a gift!\")\n",
        "else:\n",
        "    print(\"Thank you!\")"
      ],
      "metadata": {
        "colab": {
          "base_uri": "https://localhost:8080/"
        },
        "id": "H4oIh6w18DGI",
        "outputId": "b41e5c85-2f62-43fe-e59c-667a64af7cbe"
      },
      "execution_count": null,
      "outputs": [
        {
          "output_type": "stream",
          "name": "stdout",
          "text": [
            "Doll: Tweety\n",
            "Total Price: 2500 taka\n",
            "Thank you!\n",
            "=========================\n",
            "Doll: Daffy Duck\n",
            "Total Price: 1800 taka\n",
            "Thank you!\n",
            "=========================\n",
            "Doll: Bugs Bunny\n",
            "Total Price: 3000 taka\n",
            "Congratulations! You get the Tweety as a gift!\n",
            "=========================\n",
            "Doll: Porky Pig\n",
            "Total Price: 1500 taka\n",
            "Thank you!\n",
            "=========================\n",
            "Dolls: Daffy Duck Bugs Bunny\n",
            "Total Price: 4800 taka\n",
            "Congratulations! You get the Tweety as a gift!\n"
          ]
        }
      ]
    },
    {
      "cell_type": "code",
      "source": [
        "#TASK=8\n",
        "class Coordinates:\n",
        "  def __init__(self,x,y):\n",
        "    self.coordi1=x\n",
        "    self.coordi2=y\n",
        "  def detail(self):\n",
        "    return f'''({self.coordi1},{self.coordi2})'''\n",
        "  def __sub__(self,other):\n",
        "    minus1=self.coordi1-other.coordi1\n",
        "    minus2=self.coordi2-other.coordi2\n",
        "    obj1=Coordinates(minus1,minus2)\n",
        "    return obj1\n",
        "  def __mul__(self,other):\n",
        "    pro1=self.coordi1*other.coordi1\n",
        "    pro2=self.coordi2*other.coordi2\n",
        "    obj2=Coordinates(pro1,pro2)\n",
        "    return obj2\n",
        "  def __eq__(self,other):\n",
        "    if (self.coordi1==other.coordi1) and (self.coordi2==other.coordi2):\n",
        "      return \"The calculated coordinates are the same.\"\n",
        "    else:\n",
        "      return \"The calculated coordinates are NOT the same.\"\n",
        "\n",
        "\n",
        "\n",
        "p1 = Coordinates(int(input()),int(input()))\n",
        "p2 = Coordinates(int(input()),int(input()))\n",
        "p4 = p1 - p2\n",
        "print(p4.detail())\n",
        "p5 = p1 * p2\n",
        "print(p5.detail())\n",
        "point_check = (p4 == p5)\n",
        "print(point_check)"
      ],
      "metadata": {
        "colab": {
          "base_uri": "https://localhost:8080/"
        },
        "id": "-dW_B_XO9Fv5",
        "outputId": "8895dc66-139b-4382-9259-76ba910e65cb"
      },
      "execution_count": null,
      "outputs": [
        {
          "output_type": "stream",
          "name": "stdout",
          "text": [
            "0\n",
            "0\n",
            "0\n",
            "0\n",
            "(0,0)\n",
            "(0,0)\n",
            "The calculated coordinates are the same.\n"
          ]
        }
      ]
    },
    {
      "cell_type": "code",
      "source": [],
      "metadata": {
        "id": "f-8AS38FeNG3"
      },
      "execution_count": null,
      "outputs": []
    },
    {
      "cell_type": "code",
      "source": [],
      "metadata": {
        "id": "is1dUO18eM8a"
      },
      "execution_count": null,
      "outputs": []
    },
    {
      "cell_type": "code",
      "source": [
        "#TASK=7(Wrong)\n",
        "class Dolls:\n",
        "    def __init__ (self, doll, price):\n",
        "        self.doll = doll\n",
        "        self.price = price\n",
        "\n",
        "    def __add__ (self, other):\n",
        "        newdoll = self.doll +\" \"+ other.doll\n",
        "        newprice = self.price + other.price\n",
        "        return Dolls(newdoll,newprice)\n",
        "\n",
        "    def detail(self):\n",
        "        sum = 0\n",
        "        for index in self.doll.split():\n",
        "            sum += 1\n",
        "        if sum > 2:\n",
        "            print (\"Dolls:\",self.doll)\n",
        "        else:\n",
        "            print (\"Doll:\",self.doll)\n",
        "        print(\"Total Price:\",self.price,\"taka\")\n",
        "\n",
        "    def __gt__ (self, other):\n",
        "        if self.price > other.price:\n",
        "          return True\n",
        "        else:\n",
        "          return False\n"
      ],
      "metadata": {
        "id": "HRKmfWx-eMwh"
      },
      "execution_count": null,
      "outputs": []
    }
  ],
  "metadata": {
    "colab": {
      "provenance": []
    },
    "kernelspec": {
      "display_name": "Python 3",
      "name": "python3"
    },
    "language_info": {
      "name": "python"
    }
  },
  "nbformat": 4,
  "nbformat_minor": 0
}
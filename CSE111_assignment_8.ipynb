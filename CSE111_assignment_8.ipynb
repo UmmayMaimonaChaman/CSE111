{
  "nbformat": 4,
  "nbformat_minor": 0,
  "metadata": {
    "colab": {
      "provenance": [],
      "include_colab_link": true
    },
    "kernelspec": {
      "name": "python3",
      "display_name": "Python 3"
    },
    "language_info": {
      "name": "python"
    }
  },
  "cells": [
    {
      "cell_type": "markdown",
      "metadata": {
        "id": "view-in-github",
        "colab_type": "text"
      },
      "source": [
        "<a href=\"https://colab.research.google.com/github/UmmayMaimonaChaman/CSE111/blob/main/CSE111_assignment_8.ipynb\" target=\"_parent\"><img src=\"https://colab.research.google.com/assets/colab-badge.svg\" alt=\"Open In Colab\"/></a>"
      ]
    },
    {
      "cell_type": "code",
      "source": [
        "#TASK=1\n",
        "class RealNumber:\n",
        "    def __init__(self, r=0):\n",
        "        self.__realValue = r\n",
        "    def getRealValue(self):\n",
        "        return self.__realValue\n",
        "    def setRealValue(self, r):\n",
        "        self.__realValue = r\n",
        "    def __str__(self):\n",
        "        return 'RealPart: '+str(self.getRealValue())\n",
        "\n",
        "class ComplexNumber(RealNumber):\n",
        "  def __init__(self, real = 1.0, im = 1.0):\n",
        "    super().__init__(float(real))\n",
        "    self.imaginary = float(im)\n",
        "\n",
        "  def __str__(self):\n",
        "    return f'''{super().__str__()}\n",
        "ImaginaryPart: {self.imaginary}'''\n",
        "\n",
        "cn1 = ComplexNumber()\n",
        "print(cn1)\n",
        "print('---------')\n",
        "cn2 = ComplexNumber(5,7)\n",
        "print(cn2)"
      ],
      "metadata": {
        "id": "f5A_gKRHQdvy",
        "colab": {
          "base_uri": "https://localhost:8080/"
        },
        "outputId": "12412e76-09bc-49c8-80d5-e4e8d561321e"
      },
      "execution_count": null,
      "outputs": [
        {
          "output_type": "stream",
          "name": "stdout",
          "text": [
            "RealPart: 1.0\n",
            "ImaginaryPart: 1.0\n",
            "---------\n",
            "RealPart: 5.0\n",
            "ImaginaryPart: 7.0\n"
          ]
        }
      ]
    },
    {
      "cell_type": "code",
      "execution_count": null,
      "metadata": {
        "id": "qmy8ODyFQahP",
        "colab": {
          "base_uri": "https://localhost:8080/"
        },
        "outputId": "e952e1b8-6dfb-4794-fb94-062d8a938347"
      },
      "outputs": [
        {
          "output_type": "stream",
          "name": "stdout",
          "text": [
            "8\n",
            "2 + 1i\n",
            "3 + 5i\n",
            "5 + 6i\n",
            "-1 + -4i\n"
          ]
        }
      ],
      "source": [
        "#TASK=2\n",
        "class RealNumber:\n",
        "    def __init__(self, number=0):\n",
        "        self.number = number\n",
        "    def __add__(self, anotherRealNumber):\n",
        "        return self.number + anotherRealNumber.number\n",
        "    def __sub__(self, anotherRealNumber):\n",
        "        return self.number - anotherRealNumber.number\n",
        "    def __str__(self):\n",
        "        return str(self.number)\n",
        "class ComplexNumber(RealNumber):\n",
        "  def __init__(self, real, i):\n",
        "    if type(real) == int:\n",
        "      super().__init__(real)\n",
        "    else:\n",
        "      super().__init__(real.number)\n",
        "    self.imaginary = i\n",
        "\n",
        "  def __str__(self):\n",
        "    #if self.imaginary < 0:\n",
        "     # return f'{super().__str__()} - {str(self.imaginary)[1:]}i'\n",
        "    #else:\n",
        "     return f'{super().__str__()} + {self.imaginary}i'\n",
        "\n",
        "  def __add__(self, obj):\n",
        "    real = super().__add__(obj)\n",
        "    imaginary = self.imaginary + obj.imaginary\n",
        "    return ComplexNumber(real, imaginary)\n",
        "\n",
        "  def __sub__(self, obj):\n",
        "    real = super().__sub__(obj)\n",
        "    imaginary = self.imaginary - obj.imaginary\n",
        "    return ComplexNumber(real, imaginary)\n",
        "\n",
        "r1 = RealNumber(3)\n",
        "r2 = RealNumber(5)\n",
        "print(r1+r2)\n",
        "cn1 = ComplexNumber(2, 1)\n",
        "print(cn1)\n",
        "cn2 = ComplexNumber(r1, 5)\n",
        "print(cn2)\n",
        "cn3 = cn1 + cn2\n",
        "print(cn3)\n",
        "cn4 = cn1 - cn2\n",
        "print(cn4)\n"
      ]
    },
    {
      "cell_type": "code",
      "source": [
        "#TASK=3\n",
        "class Account:\n",
        "    def __init__(self, balance):\n",
        "        self._balance = balance\n",
        "\n",
        "    def getBalance(self):\n",
        "        return self._balance\n",
        "\n",
        "class CheckingAccount(Account):\n",
        "  numberOfAccount = 0\n",
        "  def __init__(self, balance = 0.0):\n",
        "    super().__init__(balance)\n",
        "    CheckingAccount.numberOfAccount += 1\n",
        "\n",
        "  def __str__(self):\n",
        "    return f'''Account Balance: {super().getBalance()}'''\n",
        "\n",
        "print('Number of Checking Accounts: ', CheckingAccount.numberOfAccount)\n",
        "print(CheckingAccount())\n",
        "print(CheckingAccount(100.00))\n",
        "print(CheckingAccount(200.00))\n",
        "print('Number of Checking Accounts: ', CheckingAccount.numberOfAccount)"
      ],
      "metadata": {
        "colab": {
          "base_uri": "https://localhost:8080/"
        },
        "id": "ojJwfeD1gwXp",
        "outputId": "e42a7a59-f7ad-4f80-bbb3-298fa03dbe06"
      },
      "execution_count": null,
      "outputs": [
        {
          "output_type": "stream",
          "name": "stdout",
          "text": [
            "Number of Checking Accounts:  0\n",
            "Account Balance: 0.0\n",
            "Account Balance: 100.0\n",
            "Account Balance: 200.0\n",
            "Number of Checking Accounts:  3\n"
          ]
        }
      ]
    },
    {
      "cell_type": "code",
      "source": [
        "#TASK=4\n",
        "class Fruit:\n",
        "    def __init__(self, formalin=False, name=''):\n",
        "        self.__formalin = formalin\n",
        "        self.name = name\n",
        "\n",
        "    def getName(self):\n",
        "        return self.name\n",
        "\n",
        "    def hasFormalin(self):\n",
        "        return self.__formalin\n",
        "\n",
        "class testFruit:\n",
        "    def test(self, f):\n",
        "        print('----Printing Detail----')\n",
        "        if f.hasFormalin():\n",
        "            print('Do not eat the',f.getName(),'.')\n",
        "            print(f)\n",
        "        else:\n",
        "            print('Eat the',f.getName(),'.')\n",
        "            print(f)\n",
        "class Mango(Fruit, testFruit):\n",
        "    def __init__(self, name=\"Mango\", formalin=True):\n",
        "        super().__init__(formalin, name)\n",
        "\n",
        "    def __str__(self):\n",
        "        if self.hasFormalin():\n",
        "            return f'''{self.getName()}s are bad for you'''\n",
        "        else:\n",
        "            return f'''{str(self.getName())}s are good for you'''\n",
        "\n",
        "class Jackfruit(Fruit, testFruit):\n",
        "    def __init__(self, name=\"Jackfruit\", formalin=False):\n",
        "        super().__init__(formalin, name)\n",
        "\n",
        "    def __str__(self):\n",
        "        if self.hasFormalin():\n",
        "            return f'''{self.getName()}s are bad for you'''\n",
        "        else:\n",
        "            return f'''{self.getName()}s are good for you'''\n",
        "\n",
        "m = Mango()\n",
        "j = Jackfruit()\n",
        "t1 = testFruit()\n",
        "t1.test(m)\n",
        "t1.test(j)"
      ],
      "metadata": {
        "colab": {
          "base_uri": "https://localhost:8080/"
        },
        "id": "QUP9FJSDSYUO",
        "outputId": "dd671b7c-7353-4376-8352-1697334b7544"
      },
      "execution_count": null,
      "outputs": [
        {
          "output_type": "stream",
          "name": "stdout",
          "text": [
            "----Printing Detail----\n",
            "Do not eat the Mango .\n",
            "Mangos are bad for you\n",
            "----Printing Detail----\n",
            "Eat the Jackfruit .\n",
            "Jackfruits are good for you\n"
          ]
        }
      ]
    },
    {
      "cell_type": "code",
      "source": [
        "#TASK=5\n",
        "class Exam:\n",
        "    def __init__(self,marks):\n",
        "        self.marks = marks\n",
        "        self.time = 60\n",
        "\n",
        "    def examSyllabus(self):\n",
        "        return \"Maths , English\"\n",
        "    def examParts(self):\n",
        "        return \"Part 1 - Maths\\nPart 2 - English\\n\"\n",
        "\n",
        "class ScienceExam(Exam):\n",
        "    def __init__(self, marks, time, *info):\n",
        "        super().__init__(marks)\n",
        "        self.time = time\n",
        "        self.lst = []\n",
        "        self.variable = 2\n",
        "        for i in info:\n",
        "            self.variable += 1\n",
        "            self.lst.append(i)\n",
        "\n",
        "    def examSyllabus(self):\n",
        "        newLst = super().examSyllabus()\n",
        "        for i in self.lst:\n",
        "            newLst += \" , \" + i\n",
        "        return newLst\n",
        "\n",
        "    def examParts(self):\n",
        "        var = super().examParts()\n",
        "        count = 3\n",
        "        for i in self.lst:\n",
        "            var += f\"part {str(count)} - {i}\\n\"\n",
        "            count += 1\n",
        "        return var\n",
        "\n",
        "    def __str__(self):\n",
        "        return f'''Marks: {self.marks} Time: {self.time} Number of Parts: {self.variable}'''\n",
        "\n",
        "\n",
        "engineering = ScienceExam(100,90,\"Physics\",\"HigherMaths\")\n",
        "print(engineering)\n",
        "print('----------------------------------')\n",
        "print(engineering.examSyllabus())\n",
        "print(engineering.examParts())\n",
        "print('==================================')\n",
        "architecture = ScienceExam(100,120,\"Physics\",\"HigherMaths\",\"Drawing\")\n",
        "print(architecture)\n",
        "print('----------------------------------')\n",
        "print(architecture.examSyllabus())\n",
        "print(architecture.examParts())"
      ],
      "metadata": {
        "colab": {
          "base_uri": "https://localhost:8080/"
        },
        "id": "aCcZXA6kSYQK",
        "outputId": "2c6773f4-68d4-4ef4-fb73-09d53e446302"
      },
      "execution_count": null,
      "outputs": [
        {
          "output_type": "stream",
          "name": "stdout",
          "text": [
            "Marks: 100 Time: 90 Number of Parts: 4\n",
            "----------------------------------\n",
            "Maths , English , Physics , HigherMaths\n",
            "Part 1 - Maths\n",
            "Part 2 - English\n",
            "part 3 - Physicspart 4 - HigherMaths\n",
            "==================================\n",
            "Marks: 100 Time: 120 Number of Parts: 5\n",
            "----------------------------------\n",
            "Maths , English , Physics , HigherMaths , Drawing\n",
            "Part 1 - Maths\n",
            "Part 2 - English\n",
            "part 3 - Physicspart 4 - HigherMathspart 5 - Drawing\n"
          ]
        }
      ]
    },
    {
      "cell_type": "code",
      "source": [
        "#TASK=6\n",
        "class Shape3D:\n",
        "  pi = 3.14159\n",
        "  def __init__(self, name = 'Default', radius = 0):\n",
        "    self._area = 0\n",
        "    self._name = name\n",
        "    self._height = 'No need'\n",
        "    self._radius = radius\n",
        "\n",
        "  def calc_surface_area(self):\n",
        "    return 2 * Shape3D.pi * self._radius\n",
        "\n",
        "  def __str__(self):\n",
        "      return \"Radius: \"+str(self._radius)\n",
        "\n",
        "class Sphere(Shape3D):\n",
        "\n",
        "  def __init__(self, name, radi):\n",
        "    super().__init__(name, radi)\n",
        "    print(f'''Shape name: {name}, Area Formula: 4 * pi * r * r''')\n",
        "\n",
        "  def calc_surface_area(self):\n",
        "    self._area = super().calc_surface_area() * 2 * self._radius\n",
        "\n",
        "  def __str__(self):\n",
        "    return f'''{super().__str__()}, Height: {self._height}\n",
        "Area: {self._area}'''\n",
        "\n",
        "class Cylinder(Shape3D):\n",
        "\n",
        "  def __init__(self, name, radi, height):\n",
        "    super().__init__(name, radi)\n",
        "    print(f\"Shape name: {name}, Area Formula: 2 * pi * r * (r + h)\")\n",
        "    self._height = height\n",
        "\n",
        "  def calc_surface_area(self):\n",
        "    self._area = super().calc_surface_area() * (self._radius + self._height)\n",
        "\n",
        "  def __str__(self):\n",
        "    return f'''{super().__str__()}, Height: {self._height}\n",
        "Area: {self._area}'''\n",
        "\n",
        "sph = Sphere('Sphere', 5)\n",
        "print('----------------------------------')\n",
        "sph.calc_surface_area()\n",
        "print(sph)\n",
        "print('==================================')\n",
        "cyl = Cylinder('Cylinder', 5, 10)\n",
        "print('----------------------------------')\n",
        "cyl.calc_surface_area()\n",
        "print(cyl)\n"
      ],
      "metadata": {
        "colab": {
          "base_uri": "https://localhost:8080/"
        },
        "id": "x8-iKjEmkldD",
        "outputId": "4f5eca88-233c-481b-9de2-6551f0d74860"
      },
      "execution_count": null,
      "outputs": [
        {
          "output_type": "stream",
          "name": "stdout",
          "text": [
            "Shape name: Sphere, Area Formula: 4 * pi * r * r\n",
            "----------------------------------\n",
            "Radius: 5, Height: No need\n",
            "Area: 314.159\n",
            "==================================\n",
            "Shape name: Cylinder, Area Formula: 2 * pi * r * (r + h)\n",
            "----------------------------------\n",
            "Radius: 5, Height: 10\n",
            "Area: 471.2385\n"
          ]
        }
      ]
    },
    {
      "cell_type": "code",
      "source": [
        "#TASK=7\n",
        "class PokemonBasic:\n",
        "  def __init__(self, name = 'Default', hp = 0, weakness = 'None', type = 'Unknown'):\n",
        "    self.name = name\n",
        "    self.hit_point = hp\n",
        "    self.weakness = weakness\n",
        "    self.type = type\n",
        "\n",
        "  def get_type(self):\n",
        "    return 'Main type: ' + self.type\n",
        "\n",
        "  def get_move(self):\n",
        "    return 'Basic move: ' + 'Quick Attack'\n",
        "\n",
        "  def __str__(self):\n",
        "    return \"Name: \" + self.name + \", HP: \" + str(self.hit_point) + \", Weakness: \" + self.weakness\n",
        "#==============================================================================================================\n",
        "class PokemonExtra(PokemonBasic):\n",
        "\n",
        "  def __init__(self, name, hp, weakness, type1, type2 = None, moves = None):\n",
        "    super().__init__(name, hp, weakness, type1)\n",
        "    self.type2 = type2\n",
        "    self.moves = moves\n",
        "\n",
        "  def get_type(self):\n",
        "    types = super().get_type()\n",
        "    if self.type2 != None:\n",
        "      types += f\", Secondary type: {self.type2}\"\n",
        "    return types\n",
        "\n",
        "  def get_move(self):\n",
        "    moves = super().get_move()\n",
        "    if self.moves != None:\n",
        "      moves += f\"\\nOther move: \"\n",
        "      for iter in self.moves:\n",
        "        moves += iter + \", \"\n",
        "      moves = moves[:-2]\n",
        "    return moves\n",
        "#==============================================================================================================\n",
        "print('\\n------------Basic Info:--------------')\n",
        "pk = PokemonBasic()\n",
        "print(pk)\n",
        "print(pk.get_type())\n",
        "print(pk.get_move())\n",
        "\n",
        "print('\\n------------Pokemon 1 Info:-------------')\n",
        "charmander = PokemonExtra('Charmander', 39, 'Water', 'Fire')\n",
        "print(charmander)\n",
        "print(charmander.get_type())\n",
        "print(charmander.get_move())\n",
        "\n",
        "print('\\n------------Pokemon 2 Info:-------------')\n",
        "charizard = PokemonExtra('Charizard', 78, 'Water', 'Fire', 'Flying', ('Fire Spin', 'Fire Blaze'))\n",
        "print(charizard)\n",
        "print(charizard.get_type())\n",
        "print(charizard.get_move())\n"
      ],
      "metadata": {
        "colab": {
          "base_uri": "https://localhost:8080/"
        },
        "id": "eWjQQw75klVu",
        "outputId": "166b4b22-cc5f-4886-e96e-d9c15a3fd56f"
      },
      "execution_count": null,
      "outputs": [
        {
          "output_type": "stream",
          "name": "stdout",
          "text": [
            "\n",
            "------------Basic Info:--------------\n",
            "Name: Default, HP: 0, Weakness: None\n",
            "Main type: Unknown\n",
            "Basic move: Quick Attack\n",
            "\n",
            "------------Pokemon 1 Info:-------------\n",
            "Name: Charmander, HP: 39, Weakness: Water\n",
            "Main type: Fire\n",
            "Basic move: Quick Attack\n",
            "\n",
            "------------Pokemon 2 Info:-------------\n",
            "Name: Charizard, HP: 78, Weakness: Water\n",
            "Main type: Fire, Secondary type: Flying\n",
            "Basic move: Quick Attack\n",
            "Other move: Fire Spin, Fire Blaze\n"
          ]
        }
      ]
    },
    {
      "cell_type": "code",
      "source": [
        "#TASK=8\n",
        "class Team:\n",
        "    def __init__(self, name):\n",
        "        self.name = \"default\"\n",
        "        self.total_player = 5\n",
        "    def info(self):\n",
        "        print(\"We love sports\")\n",
        "\n",
        "# Write your code here.\n",
        "class FootBallTeam(Team):\n",
        "  def __init__(self, name):\n",
        "    self.name = name\n",
        "    self.total_player = 11\n",
        "\n",
        "  def info(self):\n",
        "    print(f'''Our name is {self.name}\n",
        "We play Football''')\n",
        "    super().info()\n",
        "\n",
        "class CricketTeam(Team):\n",
        "  def __init__(self, name):\n",
        "    self.name = name\n",
        "    self.total_player = 11\n",
        "\n",
        "  def info(self):\n",
        "    print(f'''Our name is {self.name}\n",
        "We play Cricket''')\n",
        "    super().info()\n",
        "\n",
        "class Team_test:\n",
        "    def check(self, tm):\n",
        "        print(\"=========================\")\n",
        "        print(\"Total Player: \", tm.total_player)\n",
        "        tm.info()\n",
        "\n",
        "f = FootBallTeam(\"Brazil\")\n",
        "c = CricketTeam(\"Bangladesh\")\n",
        "test = Team_test()\n",
        "test.check(f)\n",
        "test.check(c)"
      ],
      "metadata": {
        "colab": {
          "base_uri": "https://localhost:8080/"
        },
        "id": "CivpbDCCklMX",
        "outputId": "7573af01-b42d-4786-87f7-11c6a94ac824"
      },
      "execution_count": null,
      "outputs": [
        {
          "output_type": "stream",
          "name": "stdout",
          "text": [
            "=========================\n",
            "Total Player:  11\n",
            "Our name is Brazil\n",
            "We play Football\n",
            "We love sports\n",
            "=========================\n",
            "Total Player:  11\n",
            "Our name is Bangladesh\n",
            "We play Cricket\n",
            "We love sports\n"
          ]
        }
      ]
    },
    {
      "cell_type": "code",
      "source": [
        "from typing_extensions import TypeAlias\n",
        "#TASK=9\n",
        "class Pokemon:\n",
        "\n",
        "    def __init__(self, p):\n",
        "        self.pokemon = p\n",
        "        self.pokemon_type = \"Needs to be set\"\n",
        "        self.pokemon_weakness = \"Needs to be set\"\n",
        "    def kind(self):\n",
        "        return self.pokemon_type\n",
        "    def weakness(self):\n",
        "        return self.pokemon_weakness\n",
        "    def what_am_i(self):\n",
        "        print(\"I am a Pokemon.\")\n",
        "\n",
        "class Pikachu(Pokemon):\n",
        "    def __init__(self, name=\"Pikachu\", ty=\"Electric\", weakness=\"Ground\"):\n",
        "        super().__init__(name)\n",
        "        self.pokemon_type = ty\n",
        "        self.pokemon_weakness = weakness\n",
        "\n",
        "    def what_am_i(self):\n",
        "        super().what_am_i()\n",
        "        print(f'''I am {self.pokemon}.''')\n",
        "\n",
        "\n",
        "class Charmander(Pokemon):\n",
        "    def __init__(self, name=\"Charmander\", ty=\"Fire\", weakness=\"Water, Ground and Rock\"):\n",
        "        super().__init__(name)\n",
        "        self.pokemon_type = ty\n",
        "        self.pokemon_weakness = weakness\n",
        "\n",
        "    def what_am_i(self):\n",
        "        super().what_am_i()\n",
        "        print(f'''I am {self.pokemon}.''')\n",
        "\n",
        "pk1 = Pikachu()\n",
        "print(\"Pokemon:\", pk1.pokemon)\n",
        "print(\"Type:\", pk1.kind())\n",
        "print(\"Weakness:\", pk1.weakness())\n",
        "pk1.what_am_i()\n",
        "print(\"========================\")\n",
        "c1 = Charmander()\n",
        "print(\"Pokemon:\", c1.pokemon)\n",
        "print(\"Type:\", c1.kind())\n",
        "print(\"Weakness:\", c1.weakness())\n",
        "c1.what_am_i()\n"
      ],
      "metadata": {
        "colab": {
          "base_uri": "https://localhost:8080/"
        },
        "id": "EifmEeYwkk9g",
        "outputId": "646e2104-36f7-4290-fcc4-d3b57e953d50"
      },
      "execution_count": null,
      "outputs": [
        {
          "output_type": "stream",
          "name": "stdout",
          "text": [
            "Pokemon: Pikachu\n",
            "Type: Electric\n",
            "Weakness: Ground\n",
            "I am a Pokemon.\n",
            "I am Pikachu.\n",
            "========================\n",
            "Pokemon: Charmander\n",
            "Type: Fire\n",
            "Weakness: Water, Ground and Rock\n",
            "I am a Pokemon.\n",
            "I am Charmander.\n"
          ]
        }
      ]
    },
    {
      "cell_type": "code",
      "source": [
        "#TASK=10\n",
        "class Department:\n",
        "    def __init__(self, s):\n",
        "        self.semester = s\n",
        "        self.name = \"Default\"\n",
        "        self.id = -1\n",
        "\n",
        "    def student_info(self):\n",
        "        print(\"Name:\", self.name)\n",
        "        print(\"ID:\", self.id)\n",
        "\n",
        "    def courses(self, c1, c2, c3):\n",
        "        print(\"No courses Approved yet!\")\n",
        "\n",
        "class CSE(Department):\n",
        "\n",
        "  def __init__(self, name, id, sem):\n",
        "    super().__init__(sem)\n",
        "    self.name = name\n",
        "    self.id = id\n",
        "\n",
        "  def courses(self, c1, c2, c3):\n",
        "    print(f'''Courses Approved to this CSE student in {self.semester} semester :\n",
        "{c1}\n",
        "{c2}\n",
        "{c3}''')\n",
        "\n",
        "class EEE(Department):\n",
        "\n",
        "  def __init__(self, name, id, sem):\n",
        "    super().__init__(sem)\n",
        "    self.name = name\n",
        "    self.id = id\n",
        "\n",
        "  def courses(self, c1, c2, c3):\n",
        "    print(f'''Courses Approved to this EEE student in {self.semester} semester :\n",
        "{c1}\n",
        "{c2}\n",
        "{c3}''')\n",
        "\n",
        "s1 = CSE(\"Rahim\", 16101328,\"Spring2016\")\n",
        "s1.student_info()\n",
        "s1.courses(\"CSE110\", \"MAT110\", \"ENG101\")\n",
        "print(\"==================\")\n",
        "s2 = EEE(\"Tanzim\", 18101326, \"Spring2018\")\n",
        "s2.student_info()\n",
        "s2.courses(\"Mat110\", \"PHY111\", \"ENG101\")\n",
        "print(\"==================\")\n",
        "s3 = CSE(\"Rudana\", 18101326, \"Fall2017\")\n",
        "s3.student_info()\n",
        "s3.courses(\"CSE111\", \"PHY101\", \"MAT120\")\n",
        "print(\"==================\")\n",
        "s4 = EEE(\"Zainab\", 19201623, \"Summer2019\")\n",
        "s4.student_info()\n",
        "s4.courses(\"EEE201\", \"PHY112\", \"MAT120\")\n"
      ],
      "metadata": {
        "colab": {
          "base_uri": "https://localhost:8080/"
        },
        "id": "QK4lW8mukkyZ",
        "outputId": "9a6591a8-5d34-4b6b-8610-cb4dc6505919"
      },
      "execution_count": null,
      "outputs": [
        {
          "output_type": "stream",
          "name": "stdout",
          "text": [
            "Name: Rahim\n",
            "ID: 16101328\n",
            "Courses Approved to this CSE student in Spring2016 semester :\n",
            "CSE110\n",
            "MAT110\n",
            "ENG101\n",
            "==================\n",
            "Name: Tanzim\n",
            "ID: 18101326\n",
            "Courses Approved to this EEE student in Spring2018 semester :\n",
            "Mat110\n",
            "PHY111\n",
            "ENG101\n",
            "==================\n",
            "Name: Rudana\n",
            "ID: 18101326\n",
            "Courses Approved to this CSE student in Fall2017 semester :\n",
            "CSE111\n",
            "PHY101\n",
            "MAT120\n",
            "==================\n",
            "Name: Zainab\n",
            "ID: 19201623\n",
            "Courses Approved to this EEE student in Summer2019 semester :\n",
            "EEE201\n",
            "PHY112\n",
            "MAT120\n"
          ]
        }
      ]
    }
  ]
}
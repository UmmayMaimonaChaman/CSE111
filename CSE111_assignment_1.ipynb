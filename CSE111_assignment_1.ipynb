{
  "nbformat": 4,
  "nbformat_minor": 0,
  "metadata": {
    "colab": {
      "provenance": [],
      "authorship_tag": "ABX9TyNofPxLG5SGD0nIjka6fIY7",
      "include_colab_link": true
    },
    "kernelspec": {
      "name": "python3",
      "display_name": "Python 3"
    },
    "language_info": {
      "name": "python"
    }
  },
  "cells": [
    {
      "cell_type": "markdown",
      "metadata": {
        "id": "view-in-github",
        "colab_type": "text"
      },
      "source": [
        "<a href=\"https://colab.research.google.com/github/UmmayMaimonaChaman/CSE111/blob/main/CSE111_assignment_1.ipynb\" target=\"_parent\"><img src=\"https://colab.research.google.com/assets/colab-badge.svg\" alt=\"Open In Colab\"/></a>"
      ]
    },
    {
      "cell_type": "markdown",
      "source": [
        "# **Part-1:  STRING**"
      ],
      "metadata": {
        "id": "TS8OVz0ckL5R"
      }
    },
    {
      "cell_type": "code",
      "execution_count": null,
      "metadata": {
        "colab": {
          "base_uri": "https://localhost:8080/"
        },
        "id": "gz_Lw0HxcXX2",
        "outputId": "4785ce20-4013-4c5f-8c40-fb54c09972dd"
      },
      "outputs": [
        {
          "output_type": "stream",
          "name": "stdout",
          "text": [
            "asDFV\n",
            "ASDFV\n"
          ]
        }
      ],
      "source": [
        "#TASK=1\n",
        "str1=input()\n",
        "upCount=0\n",
        "lowCount=0\n",
        "for i in str1:\n",
        "  if 90>=ord(i)>=65:\n",
        "    upCount=upCount+1\n",
        "  if 122>=ord(i)>=97:                     #if \"A\">=\"i\">=\"Z\":\n",
        "    lowCount=lowCount+1\n",
        "if upCount>lowCount:                    #if \"a\">=\"i\">=\"z\":\n",
        "  print(str1.upper())\n",
        "if upCount<=lowCount:\n",
        "  print(str1.upper())"
      ]
    },
    {
      "cell_type": "code",
      "source": [
        "#TASK1(type2   without built in)\n",
        "str1=input()\n",
        "upCount=0\n",
        "lowCount=0\n",
        "res=\"\"\n",
        "a=0\n",
        "for i in str1:\n",
        "  if 90>=ord(i)>=65:\n",
        "    upCount=upCount+1\n",
        "  if 122>=ord(i)>=97:\n",
        "    lowCount=lowCount\n",
        "for j in str1:\n",
        "  if upCount<=lowCount:\n",
        "    a=ord(j)-32\n",
        "    var=chr(a)\n",
        "    res=res+var\n",
        "  else:\n",
        "    res=res+j\n",
        "\n",
        "print(res)"
      ],
      "metadata": {
        "colab": {
          "base_uri": "https://localhost:8080/"
        },
        "id": "j6hmpcMJZeEa",
        "outputId": "389f6917-9fc4-4332-c0b2-37a8ce7be18d"
      },
      "execution_count": null,
      "outputs": [
        {
          "output_type": "stream",
          "name": "stdout",
          "text": [
            "ASddff\n",
            "ASddff\n"
          ]
        }
      ]
    },
    {
      "cell_type": "code",
      "source": [
        "#TASK=2\n",
        "str_input = input()\n",
        "integer = 0\n",
        "alphabet = 0\n",
        "mixed = 0\n",
        "for i in str_input:\n",
        "  value = ord(i)\n",
        "  if (value>=65 and value<=90) or (value>=97 and value<=122) :\n",
        "    alphabet += 1\n",
        "  elif value>=48 and value<=57:\n",
        "    integer += 1\n",
        "\n",
        "if integer > 0 and alphabet > 0:\n",
        "  print('MIXED')\n",
        "elif integer > 0:\n",
        "  print('NUMBER')\n",
        "else:\n",
        "  print('WORD')\n"
      ],
      "metadata": {
        "colab": {
          "base_uri": "https://localhost:8080/"
        },
        "id": "IEjEyFFGi9L5",
        "outputId": "7901f419-d3b5-4436-cf2f-ac6dee0a3cfc"
      },
      "execution_count": null,
      "outputs": [
        {
          "output_type": "stream",
          "name": "stdout",
          "text": [
            "jhg231j213\n",
            "MIXED\n"
          ]
        }
      ]
    },
    {
      "cell_type": "code",
      "source": [
        "#TASK=3(type1)\n",
        "strInput=input()\n",
        "result=\"\"\n",
        "loop=0\n",
        "for ch in strInput:\n",
        "  if 65<=ord(ch)<=90:\n",
        "    loop+=1\n",
        "    continue\n",
        "  if loop==1:\n",
        "    result += ch\n",
        "\n",
        "if len(result)==0:\n",
        "  print(\"BLANK\")\n",
        "else:\n",
        "  print(result)\n"
      ],
      "metadata": {
        "colab": {
          "base_uri": "https://localhost:8080/"
        },
        "id": "tBQLdmiWnsmZ",
        "outputId": "fa4d0a19-6a38-4101-f05e-5baabc6160f7"
      },
      "execution_count": null,
      "outputs": [
        {
          "output_type": "stream",
          "name": "stdout",
          "text": [
            "coDIng\n",
            "BLANK\n"
          ]
        }
      ]
    },
    {
      "cell_type": "code",
      "source": [
        "#TASK=3(type2)\n",
        "str_input = input()\n",
        "a =-1\n",
        "\n",
        "for i in str_input:\n",
        "  if 65<=ord(i)<=90:\n",
        "    a+=1\n",
        "    break\n",
        "  else:\n",
        "    a+=1\n",
        "\n",
        "new_string=str_input[a+1:]\n",
        "num=0\n",
        "for j in new_string:\n",
        "  if 65<=ord(j)<=90 :\n",
        "    num+=1\n",
        "    break\n",
        "  else:\n",
        "    num+=1\n",
        "extra=a+num\n",
        "if (extra-a)==1:\n",
        "  print(\"BLANK\")\n",
        "else:\n",
        "  print(str_input[a+1:extra])"
      ],
      "metadata": {
        "colab": {
          "base_uri": "https://localhost:8080/"
        },
        "id": "wu9lfOpV_unV",
        "outputId": "a7e40b6c-b976-4125-b820-d422018e389e"
      },
      "execution_count": null,
      "outputs": [
        {
          "output_type": "stream",
          "name": "stdout",
          "text": [
            "coDIng\n",
            "BLANK\n"
          ]
        }
      ]
    },
    {
      "cell_type": "code",
      "source": [
        "#TASK=4\n",
        "strInput=input()\n",
        "empty_str1 = ''\n",
        "empty_str2 = ''\n",
        "#===============================================================(by using split)input er 2ta element k seperate kora including comma\n",
        "a=strInput.split(\",\")\n",
        "for ch in a:\n",
        "  str1=a[0]\n",
        "  str2=a[1]\n",
        "#================================================================================(ekhon str1=1st input & str2=2nd input)\n",
        "#================================================================================counting common characters of the given strings.\n",
        "for i in str1:\n",
        "  if i in str2:\n",
        "    empty_str1 += i\n",
        "for j in str2:\n",
        "  if j in str1:\n",
        "    empty_str2 += j\n",
        "#================================================================================handling outputs\n",
        "if empty_str1==\"\" or empty_str2==\"\":\n",
        "  print(\"Nothing in common.\")\n",
        "else:\n",
        "  concate=empty_str1+empty_str2\n",
        "  print(concate)"
      ],
      "metadata": {
        "colab": {
          "base_uri": "https://localhost:8080/"
        },
        "id": "_Kl2wXCnLvQQ",
        "outputId": "d36634d9-9a40-413e-a676-f39103a01388"
      },
      "execution_count": null,
      "outputs": [
        {
          "output_type": "stream",
          "name": "stdout",
          "text": [
            "harry, hermione \n",
            "hrrhr\n"
          ]
        }
      ]
    },
    {
      "cell_type": "code",
      "source": [
        "#TASK=4   (2ta string input newa gele ei procedure hobe)\n",
        "str1 = input()\n",
        "str2 = input()\n",
        "empty_str1 = ''\n",
        "empty_str2 = ''\n",
        "\n",
        "for i in str1:\n",
        "  if i in str2:\n",
        "    empty_str1 += i\n",
        "for j in str2:\n",
        "  if j in str1:\n",
        "    empty_str2 += j\n",
        "\n",
        "if empty_str1==\"\" or empty_str2==\"\":\n",
        "  print(\"Nothing in common.\")\n",
        "else:\n",
        "  concate=empty_str1+empty_str2\n",
        "  print(concate)"
      ],
      "metadata": {
        "colab": {
          "base_uri": "https://localhost:8080/"
        },
        "id": "qflO0PZbx1gm",
        "outputId": "8b944031-5598-434c-acb3-4c78e9043cb8"
      },
      "execution_count": null,
      "outputs": [
        {
          "output_type": "stream",
          "name": "stdout",
          "text": [
            "azxc\n",
            "azxcfds\n",
            "azxcazxc\n"
          ]
        }
      ]
    },
    {
      "cell_type": "code",
      "source": [
        "#TASK=5\n",
        "password=input()\n",
        "#================================================================================value and variable declare\n",
        "emptyStr=\"\"\n",
        "lowerCount=0\n",
        "upperCount=0\n",
        "digitCount=0\n",
        "charCount=0\n",
        "lowerMissing=\"Lowercase character missing\"\n",
        "upperMissing=\"Uppercase character missing\"\n",
        "digitMissing=\"Digit missing\"\n",
        "charMissing=\"Special character missing\"\n",
        "#================================================================================Counting\n",
        "for i in password:\n",
        "  if 97<=ord(i)<=122:\n",
        "    lowerCount+=1\n",
        "  elif 65<=ord(i)<=90:\n",
        "    upperCount+=1\n",
        "  elif 48<=ord(i)<=57:\n",
        "    digitCount+=1\n",
        "  else:\n",
        "    charCount+=1\n",
        "#================================================================================handling OK\n",
        "if lowerCount!=0 and upperCount!=0 and digitCount!=0 and charCount!=0:\n",
        "  print(\"OK\")\n",
        "#================================================================================handling remaining task\n",
        "else:\n",
        "  if lowerCount==0:\n",
        "    emptyStr+= lowerMissing+\",\"\n",
        "  if upperCount==0:\n",
        "    emptyStr+= upperMissing+\",\"\n",
        "  if digitCount==0:\n",
        "    emptyStr+= digitMissing+\",\"\n",
        "  if charCount==0:\n",
        "    emptyStr+= charMissing+\",\"\n",
        "  emptyStr=emptyStr[0:len(emptyStr)-1]\n",
        "  print(emptyStr)\n"
      ],
      "metadata": {
        "id": "sKwE0dCs3Q1C",
        "colab": {
          "base_uri": "https://localhost:8080/"
        },
        "outputId": "cf845939-e283-4bb9-d610-22329506b932"
      },
      "execution_count": null,
      "outputs": [
        {
          "output_type": "stream",
          "name": "stdout",
          "text": [
            "OhMyBR@CU20\n",
            "OK\n"
          ]
        }
      ]
    },
    {
      "cell_type": "markdown",
      "source": [
        "# **Part-2: LIST**"
      ],
      "metadata": {
        "id": "mAfULjZsuTTq"
      }
    },
    {
      "cell_type": "code",
      "source": [
        "#TASK=1\n",
        "lst1=[]\n",
        "lst2=[]\n",
        "\n",
        "while True:\n",
        "  n=input()\n",
        "  lst1.append(n)\n",
        "  if n==\"STOP\":\n",
        "    lst1.remove(\"STOP\")\n",
        "    break\n",
        "\n",
        "for i in lst1:\n",
        "  if i not in lst2:\n",
        "    lst2.append(i)\n",
        "\n",
        "for j in lst2:\n",
        "  value=0\n",
        "  for a in lst1:\n",
        "    if j==a:\n",
        "      value+=1\n",
        "  print(j,\"-\",value,\"times\")"
      ],
      "metadata": {
        "id": "_QS77UJy5CTU",
        "colab": {
          "base_uri": "https://localhost:8080/"
        },
        "outputId": "a2cf2d0d-dade-4eab-92d0-e8d97c93a216"
      },
      "execution_count": null,
      "outputs": [
        {
          "output_type": "stream",
          "name": "stdout",
          "text": [
            "10\n",
            "20\n",
            "30\n",
            "20\n",
            "10\n",
            "50\n",
            "90\n",
            "10\n",
            "20\n",
            "STOP\n",
            "10 - 3 times\n",
            "20 - 3 times\n",
            "30 - 1 times\n",
            "50 - 1 times\n",
            "90 - 1 times\n"
          ]
        }
      ]
    },
    {
      "cell_type": "code",
      "source": [
        "#TASK=2\n",
        "a=int(input())\n",
        "lst1=[]\n",
        "lst2=[]\n",
        "lst3=[]\n",
        "lst4=[]\n",
        "max=0\n",
        "idx=0\n",
        "\n",
        "for i in range(a):\n",
        "  str1=input()\n",
        "  lst1=str1.split()\n",
        "  lst2.append(lst1)\n",
        "\n",
        "for i in lst2:\n",
        "  sum=0\n",
        "  for j in i:\n",
        "    sum+=int(j)\n",
        "  lst3.append(sum)\n",
        "\n",
        "for i in range(len(lst3)):\n",
        "  if lst3[i]>max:\n",
        "    max=lst3[i]\n",
        "    idx=i\n",
        "print(max)\n",
        "for i in lst2[idx]:\n",
        "  lst4.append(int(i))\n",
        "print(lst4)\n"
      ],
      "metadata": {
        "id": "K-tGMHln0d49",
        "colab": {
          "base_uri": "https://localhost:8080/"
        },
        "outputId": "c9c67621-2080-4cee-c17c-587b7fa1acc2"
      },
      "execution_count": null,
      "outputs": [
        {
          "output_type": "stream",
          "name": "stdout",
          "text": [
            "2\n",
            "61 62 63 64\n",
            "1 2 3\n",
            "250\n",
            "[61, 62, 63, 64]\n"
          ]
        }
      ]
    },
    {
      "cell_type": "code",
      "source": [
        "#TASK=3\n",
        "num=\"\"\n",
        "lst1=[]\n",
        "lst2=[]\n",
        "temp=0\n",
        "total=0\n",
        "while num!=\"STOP\":\n",
        "  num=input()\n",
        "  if num==\"STOP\":\n",
        "    break\n",
        "  else:\n",
        "    num2=num.split(\" \")\n",
        "    for i in num2:\n",
        "      lst1.append(int(i))\n",
        "\n",
        "    l1= len(lst1)\n",
        "    minus=len(lst1)-1\n",
        "\n",
        "    for a in range(l1-1):\n",
        "      first=lst1[a]\n",
        "      second=lst1[a+1]\n",
        "      if first>second:\n",
        "        temp=first-second\n",
        "      else:\n",
        "        temp=second-first\n",
        "      lst2.append(int(temp))\n",
        "\n",
        "    for b in lst2:\n",
        "      if b>minus:\n",
        "        total+=1\n",
        "      elif b<1:\n",
        "        total+=1\n",
        "\n",
        "    if total==0:\n",
        "      print(\"UB Jumper\")\n",
        "    else:\n",
        "      print(\"Not UB Jumper\")\n",
        "\n"
      ],
      "metadata": {
        "colab": {
          "base_uri": "https://localhost:8080/"
        },
        "id": "B8tOvf1-4kF2",
        "outputId": "34a994ab-2280-44e6-eed6-ad909547703e"
      },
      "execution_count": null,
      "outputs": [
        {
          "name": "stdout",
          "output_type": "stream",
          "text": [
            "1 4 2 3\n",
            "U8 Jumper\n",
            "1 4 2 -1 6\n",
            "U8 Jumper\n",
            "2 1 4 6 10\n",
            "U8 Jumper\n",
            "STOP\n"
          ]
        }
      ]
    },
    {
      "cell_type": "code",
      "source": [
        "#TASK=4(type-1)\n",
        "n,k=input().split(\" \")\n",
        "eligible=0\n",
        "lst = input().split(\" \")\n",
        "for i in lst:\n",
        "    a=int(i)\n",
        "    if (5-a)>=int(k):\n",
        "      eligible+=1\n",
        "      output=eligible//3\n",
        "print(output)\n"
      ],
      "metadata": {
        "colab": {
          "base_uri": "https://localhost:8080/"
        },
        "id": "pKwMKe29wt8a",
        "outputId": "ff83ea98-d968-4b4a-d6ab-90512c13cfca"
      },
      "execution_count": null,
      "outputs": [
        {
          "output_type": "stream",
          "name": "stdout",
          "text": [
            "5 2\n",
            "0 4 5 1 0\n",
            "1\n"
          ]
        }
      ]
    },
    {
      "cell_type": "code",
      "source": [
        "#TASK=4(type-2)\n",
        "n,k=(input()).split(\" \")\n",
        "eligible=0\n",
        "lst = input().split(\" \")\n",
        "for i in lst:\n",
        "    a=int(i)\n",
        "    if a<=int(k):\n",
        "      eligible+=1\n",
        "      output=eligible//3\n",
        "print(output)\n"
      ],
      "metadata": {
        "colab": {
          "base_uri": "https://localhost:8080/"
        },
        "id": "tF4EOtA7ao7S",
        "outputId": "593a5caf-0190-4452-86b4-dc362c7f5bd8"
      },
      "execution_count": null,
      "outputs": [
        {
          "output_type": "stream",
          "name": "stdout",
          "text": [
            "6 5\n",
            "0 0 0 0 0 0\n",
            "2\n"
          ]
        }
      ]
    },
    {
      "cell_type": "code",
      "source": [
        "#TASK=4(type-3)\n",
        "n,k=input().split(\" \")\n",
        "str1=input().split(\" \")\n",
        "lst1=[]\n",
        "lst2=[]\n",
        "for i in str1:\n",
        "  lst1.append(int(i))\n",
        "for j in lst1:\n",
        "  if 5-int(j)>=int(k):\n",
        "    lst2.append(j)\n",
        "size=len(lst2)\n",
        "print(size//3)"
      ],
      "metadata": {
        "colab": {
          "base_uri": "https://localhost:8080/"
        },
        "id": "qzTpaoa6qi2y",
        "outputId": "a8032016-4673-4bb9-877e-f14979d131cc"
      },
      "execution_count": null,
      "outputs": [
        {
          "output_type": "stream",
          "name": "stdout",
          "text": [
            "6 4\n",
            "0 1 2 3 4 5\n",
            "0\n"
          ]
        }
      ]
    },
    {
      "cell_type": "markdown",
      "source": [
        "# **Part-3: Dictionary & Tuple**"
      ],
      "metadata": {
        "id": "E81lZ6zhwvP9"
      }
    },
    {
      "cell_type": "code",
      "source": [
        "\n",
        "#TASK=1\n",
        "#userInput1=\"a: 100, b: 100, c: 200, d: 300\"\n",
        "#userInput2=\"a: 300, b: 200, d: 400, e: 200\"\n",
        "userInput1=input()\n",
        "userInput2=input()\n",
        "dict1={}\n",
        "dict2={}\n",
        "lst=[]\n",
        "\n",
        "lst1=userInput1.split(\",\")\n",
        "for a in lst1:\n",
        "  k1,v1=a.split(\":\")\n",
        "  dict1[k1]=int(v1)\n",
        "\n",
        "lst2=userInput2.split(\",\")\n",
        "for b in lst2:\n",
        "  k2,v2=b.split(\":\")\n",
        "  dict2[k2]=int(v2)\n",
        "\n",
        "\n",
        "for key,value in dict2.items():\n",
        "  if dict1.get(key)==None:\n",
        "    dict1[key]=value\n",
        "  else:\n",
        "    dict1[key]+=value\n",
        "\n",
        "for v in dict1.values():\n",
        "  if v not in lst:\n",
        "    lst.append(v)\n",
        "    lst.sort()\n",
        "    tup=tuple(lst)\n",
        "print(dict1)\n",
        "print(\"values:\",tup)"
      ],
      "metadata": {
        "id": "KFoVukmPw6mj",
        "colab": {
          "base_uri": "https://localhost:8080/"
        },
        "outputId": "d224d944-6e56-492f-be92-b8902637a809"
      },
      "execution_count": null,
      "outputs": [
        {
          "output_type": "stream",
          "name": "stdout",
          "text": [
            "{'a': 400, ' b': 300, ' c': 200, ' d': 700, ' e': 200}\n",
            "values: (200, 300, 400, 700)\n"
          ]
        }
      ]
    },
    {
      "cell_type": "code",
      "source": [
        "#TASK=2(without using built-in function and by using dictionaries)\n",
        "lst=[]\n",
        "#================================================================================handling STOP and taking inputs & create a list of them\n",
        "while True:\n",
        "  n=input()\n",
        "  lst.append(n)\n",
        "  if n==\"STOP\":\n",
        "    lst.remove(\"STOP\")\n",
        "    break\n",
        "#================================================================================inserting the elements and frequencies in a dictionaries\n",
        "countDict={}\n",
        "for i in lst:\n",
        "  if i in countDict:\n",
        "    countDict[i] +=1                                                            #incerementing the count\n",
        "  else:\n",
        "    countDict[i]=1                                                              #setting the count to 1\n",
        "#================================================================================handling outputs\n",
        "for key,value in countDict.items():\n",
        "  print(key,\"-\",value,\"times\")"
      ],
      "metadata": {
        "id": "WXlBNAfZw6UF",
        "colab": {
          "base_uri": "https://localhost:8080/"
        },
        "outputId": "eb29f4da-313a-4004-a260-23b0d4c56c20"
      },
      "execution_count": null,
      "outputs": [
        {
          "output_type": "stream",
          "name": "stdout",
          "text": [
            "10\n",
            "20\n",
            "20\n",
            "30\n",
            "10\n",
            "50\n",
            "90\n",
            "STOP\n",
            "10 - 2 times\n",
            "20 - 2 times\n",
            "30 - 1 times\n",
            "50 - 1 times\n",
            "90 - 1 times\n"
          ]
        }
      ]
    },
    {
      "cell_type": "code",
      "source": [
        "#TASK=3\n",
        "user_inp = input()\n",
        "lst1 = user_inp.split(\",\")\n",
        "lst2 = []\n",
        "keyList = []\n",
        "valueList = []\n",
        "dict1 = {}\n",
        "dict2 = {}\n",
        "newList = []\n",
        "\n",
        "for i in lst1:\n",
        "  lst2 = i.split(\":\")\n",
        "  keyList.append(lst2[0].strip())\n",
        "  valueList.append(lst2[1].strip())\n",
        "\n",
        "\n",
        "for j in range(len(keyList)):\n",
        "  dict1[keyList[j]] = valueList[j]\n",
        "\n",
        "for key, value in dict1.items():\n",
        "  if value not in dict2:\n",
        "    dict2[value] = [key]\n",
        "  else:\n",
        "    newList = dict2[value] + [key]\n",
        "    dict2[value] = newList\n",
        "\n",
        "print(dict2)"
      ],
      "metadata": {
        "id": "dVcyfLxBHJMd",
        "colab": {
          "base_uri": "https://localhost:8080/"
        },
        "outputId": "1b310080-75c9-43ed-8dce-9423e09afd85"
      },
      "execution_count": null,
      "outputs": [
        {
          "output_type": "stream",
          "name": "stdout",
          "text": [
            "key1 : value1, key2 : value2, key3 : value1\n",
            "{'value1': ['key1', 'key3'], 'value2': ['key2']}\n"
          ]
        }
      ]
    },
    {
      "cell_type": "code",
      "source": [
        "#TASK=4\n",
        "cellphones={\"1\":[\".\",\",\",\"?\",\"!\",\":\"],\"2\":[\"A\",\"B\",\"C\"],\"3\":[\"D\",\"E\",\"F\"],\"4\":[\"G\",\"H\",\"I\"],\"5\":[\"J\",\"K\",\"L\"],\"6\":[\"M\",\"N\",\"O\"],\"7\":[\"P\",\"Q\",\"R\",\"S\"],\n",
        "       \"8\":[\"T\",\"U\",\"V\"],\"9\":[\"W\",\"X\",\"Y\",\"Z\"],\"0\":[\" \"]}\n",
        "\n",
        "sms=input().upper()\n",
        "for a in sms:\n",
        "  for key,value in cellphones.items():\n",
        "    if a in value:\n",
        "      keypad=key*(value.index(a)+1)\n",
        "      print(keypad,end=\"\")"
      ],
      "metadata": {
        "id": "KsUlfCZPwv5H",
        "colab": {
          "base_uri": "https://localhost:8080/"
        },
        "outputId": "23def6a7-ca29-4750-fa94-51ae8f9d00d0"
      },
      "execution_count": null,
      "outputs": [
        {
          "output_type": "stream",
          "name": "stdout",
          "text": [
            "Hello, World!\n",
            "4433555555666110966677755531111"
          ]
        }
      ]
    },
    {
      "cell_type": "markdown",
      "source": [
        "# **Part-4: FUNCTION**"
      ],
      "metadata": {
        "id": "h2yePRNlNTBU"
      }
    },
    {
      "cell_type": "code",
      "source": [
        "#TASK=1\n",
        "def calculate_BMI(height,weight):\n",
        "  height=height/100\n",
        "  bmi=weight/((height)**2)\n",
        "  if bmi<18.5:\n",
        "    print(\"Score is \",bmi, \"You are underweight.\")\n",
        "  elif 18.5<=bmi<=24.9:\n",
        "    print(\"score is\", bmi, \"You are Normal.\")\n",
        "  elif 25<=bmi<=30:\n",
        "    print(\"score is\",bmi,\"You are Overweight.\")\n",
        "  else:\n",
        "     print(\"score is\",bmi,\"You are Obese.\")\n",
        "\n",
        "calculate_BMI(175,96)"
      ],
      "metadata": {
        "id": "RKpfousxQbZA",
        "colab": {
          "base_uri": "https://localhost:8080/"
        },
        "outputId": "81729a1b-3907-43ef-f1c4-5166d2f42d66"
      },
      "execution_count": null,
      "outputs": [
        {
          "output_type": "stream",
          "name": "stdout",
          "text": [
            "score is 31.346938775510203 You are Obese.\n"
          ]
        }
      ]
    },
    {
      "cell_type": "code",
      "source": [
        "#TASK=2\n",
        "def calculate(minimum,maximum,divisor):\n",
        "  total=0\n",
        "  for i in range(minimum,maximum):\n",
        "    if i%divisor==0:\n",
        "      total+=i\n",
        "  return total\n",
        "print(calculate(0, 10, 2))"
      ],
      "metadata": {
        "colab": {
          "base_uri": "https://localhost:8080/"
        },
        "id": "dKy-eoKHQz-q",
        "outputId": "648f73f1-7a23-4c89-de67-6b0f08ae0b29"
      },
      "execution_count": null,
      "outputs": [
        {
          "output_type": "stream",
          "name": "stdout",
          "text": [
            "20\n"
          ]
        }
      ]
    },
    {
      "cell_type": "code",
      "source": [
        "#TASK=3\n",
        "def foodpanda(burger,location=\"Mohakhali\"):\n",
        "  price_dict={\"BBQ Chicken Cheese Burger\": 250,\"Beef Burger\": 170,\"Naga Drums\": 200}\n",
        "  total=0\n",
        "  for key,value in price_dict.items():\n",
        "    if burger in key:\n",
        "      price=price_dict[burger]\n",
        "  if location!=\"Mohakhali\":\n",
        "    total=price+60+(price*(8/100))\n",
        "  else:\n",
        "    total=price+40+(price*(8/100))\n",
        "  return total\n",
        "  print(total)\n",
        "foodpanda(\"Beef Burger\", \"Dhanmondi\")\n"
      ],
      "metadata": {
        "colab": {
          "base_uri": "https://localhost:8080/"
        },
        "id": "Q4m2WwJKqh7t",
        "outputId": "81274a23-bade-40ac-b3ad-e39494ba8a15"
      },
      "execution_count": null,
      "outputs": [
        {
          "output_type": "execute_result",
          "data": {
            "text/plain": [
              "243.6"
            ]
          },
          "metadata": {},
          "execution_count": 18
        }
      ]
    },
    {
      "cell_type": "code",
      "source": [
        "#TASK=4\n",
        "def replace_domain(email,new_domain,old_domain=\"kaaj.com\"):\n",
        "  mail_split=email.split(\"@\")\n",
        "  if mail_split[1]==old_domain:\n",
        "    return \"Changed:\"+mail_split[0]+\"@\"+new_domain\n",
        "  else:\n",
        "    return \"Unchanged:\"+email\n",
        "print(replace_domain(\"alice@kaaj.com\",\"sheba.xyz\",\"kaaj.com\"))\n",
        "print(replace_domain(\"bob@sheba.xyz\",\"sheba.xyz\"))\n"
      ],
      "metadata": {
        "id": "26M-iFiSw_pU",
        "colab": {
          "base_uri": "https://localhost:8080/"
        },
        "outputId": "054fd4f6-ef0d-4941-f89c-76561bb8f182"
      },
      "execution_count": null,
      "outputs": [
        {
          "output_type": "stream",
          "name": "stdout",
          "text": [
            "Changed:alice@sheba.xyz\n",
            "Unchanged:bob@sheba.xyz\n"
          ]
        }
      ]
    },
    {
      "cell_type": "code",
      "source": [
        "#TASK=5\n",
        "def  palindrome(sentence):\n",
        "  string=\"\"\n",
        "  for i in sentence:\n",
        "    if i!=\" \":\n",
        "      string+=i\n",
        "  str1=string[::-1]\n",
        "  if string==str1:\n",
        "    print(\"Palindrome\")\n",
        "  else:\n",
        "    print(\"Not a palindrome\")\n",
        "palindrome(\"madam\")"
      ],
      "metadata": {
        "colab": {
          "base_uri": "https://localhost:8080/"
        },
        "id": "jM4By9NYxLnr",
        "outputId": "02f76165-4a59-4f43-e475-49774abcd01e"
      },
      "execution_count": null,
      "outputs": [
        {
          "output_type": "stream",
          "name": "stdout",
          "text": [
            "Palindrome\n"
          ]
        }
      ]
    },
    {
      "cell_type": "code",
      "source": [
        "#TASK=6\n",
        "def capitalization(sentence):\n",
        "  lst1=list(sentence)\n",
        "\n",
        "  lst1[0]=lst1[0].upper()\n",
        "\n",
        "  for i in range(1,len(sentence)-1):\n",
        "\n",
        "    if sentence[i]==\"?\" or  sentence[i]==\"!\":\n",
        "      lst1[i+1]=sentence[i+1].upper()\n",
        "    if sentence[i]==\".\":\n",
        "      lst1[i+1]=sentence[i+1].upper()\n",
        "      #============================================================================== HOW TO HANDLE i ???\n",
        "\n",
        "  for i in range(0,len(lst1)):\n",
        "    print(lst1[i],end=\"\")\n",
        "\n",
        "capitalization(\"my favourite animal is a dog.a dog has sharp teeth so that it can eat flesh very easily.do you know my pet dog’s name?i love my pet very much.\")"
      ],
      "metadata": {
        "colab": {
          "base_uri": "https://localhost:8080/"
        },
        "id": "JxSvd6FVyUUZ",
        "outputId": "9834b22b-f53d-4040-d4c8-7497a86b2597"
      },
      "execution_count": null,
      "outputs": [
        {
          "output_type": "stream",
          "name": "stdout",
          "text": [
            "My favourite animal is a dog.A dog has sharp teeth so that it can eat flesh very easily.Do you know my pet dog’s name?I love my pet very much."
          ]
        }
      ]
    },
    {
      "cell_type": "code",
      "source": [
        "def capitalization(old_string):\n",
        "  new_string = \"\"\n",
        "  for iter1 in range(len(old_string)):\n",
        "    if iter1 == 0 or (old_string[iter1] == \"i\" and old_string[iter1+1] == \" \" and old_string[iter1-1] == \" \") or ((old_string[iter1-2] == \".\" or old_string[iter1-2] == \"?\" or old_string[iter1-2] == \"!\") and (iter1-2) != -1):\n",
        "      if ord('a') <= ord(old_string[iter1]) <= ord('z'):\n",
        "        new_string += chr(ord(old_string[iter1])-32)\n",
        "      else:\n",
        "        new_string += old_string[iter1]\n",
        "    else:\n",
        "      new_string += old_string[iter1]\n",
        "  return new_string\n",
        "\n",
        "\n",
        "print(capitalization(input('Enter a string: ')[2:-2]))"
      ],
      "metadata": {
        "id": "9SYMjMKDEasv"
      },
      "execution_count": null,
      "outputs": []
    }
  ]
}
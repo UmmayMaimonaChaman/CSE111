{
  "nbformat": 4,
  "nbformat_minor": 0,
  "metadata": {
    "colab": {
      "provenance": [],
      "authorship_tag": "ABX9TyMoRqvJA9UcKsH9WjfXWNf7",
      "include_colab_link": true
    },
    "kernelspec": {
      "name": "python3",
      "display_name": "Python 3"
    },
    "language_info": {
      "name": "python"
    }
  },
  "cells": [
    {
      "cell_type": "markdown",
      "metadata": {
        "id": "view-in-github",
        "colab_type": "text"
      },
      "source": [
        "<a href=\"https://colab.research.google.com/github/UmmayMaimonaChaman/CSE111/blob/main/CSE111_assignment_7.ipynb\" target=\"_parent\"><img src=\"https://colab.research.google.com/assets/colab-badge.svg\" alt=\"Open In Colab\"/></a>"
      ]
    },
    {
      "cell_type": "code",
      "execution_count": null,
      "metadata": {
        "colab": {
          "base_uri": "https://localhost:8080/"
        },
        "id": "kYv0jVuEDVZY",
        "outputId": "9741f6f9-d514-441a-f9ee-7a613378f540"
      },
      "outputs": [
        {
          "output_type": "stream",
          "name": "stdout",
          "text": [
            "Name: Default Department: BBA\n",
            "Name: Humpty Dumpty Department: BBA\n",
            "Name: Little Bo Peep Department: BBA\n"
          ]
        }
      ],
      "source": [
        "#TASK=1\n",
        "class Student:\n",
        "    def __init__(self, name='Just a student', dept='nothing'):\n",
        "        self.__name = name\n",
        "        self.__department = dept\n",
        "    def set_department(self, dept):\n",
        "        self.__department = dept\n",
        "    def get_name(self):\n",
        "        return self.__name\n",
        "    def set_name(self,name):\n",
        "        self.__name = name\n",
        "    def __str__(self):\n",
        "        return 'Name: '+self.__name+' Department: '+self.__department\n",
        "\n",
        "\n",
        "#write your code here\n",
        "class BBA_Student(Student):\n",
        "  def __init__(self,name=\"Default\",dept=\"BBA\"):\n",
        "    super().__init__(name,dept)\n",
        "\n",
        "print(BBA_Student())\n",
        "print(BBA_Student('Humpty Dumpty'))\n",
        "print(BBA_Student('Little Bo Peep'))"
      ]
    },
    {
      "cell_type": "code",
      "source": [
        "#TASK=2\n",
        "class Vehicle:\n",
        "    def __init__(self):\n",
        "        self.x = 0\n",
        "        self.y = 0\n",
        "    def moveUp(self):\n",
        "        self.y += 1\n",
        "    def moveDown(self):\n",
        "        self.y -= 1\n",
        "    def moveRight(self):\n",
        "        self.x += 1\n",
        "    def moveLeft(self):\n",
        "        self.x -= 1\n",
        "    def __str__(self):\n",
        "        return '('+str(self.x)+' , '+str(self.y)+')'\n",
        "#write your code here\n",
        "\n",
        "class Vehicle2010 (Vehicle):\n",
        "    def UpperLeft (self):\n",
        "        super().moveUp()\n",
        "        super().moveLeft()\n",
        "    def UpperRight (self):\n",
        "        super().moveUp()\n",
        "        super().moveRight()\n",
        "    def moveLowerLeft (self):\n",
        "        super().moveDown()\n",
        "        super().moveLeft()\n",
        "    def moveLowerRight (self):\n",
        "        super().moveDown()\n",
        "        super().moveRight()\n",
        "\n",
        "\n",
        "    def equals (self, other):\n",
        "        if self.x == other.x and self.y == other.y:\n",
        "            return \"True\"\n",
        "        else:\n",
        "            return \"False\"\n",
        "\n",
        "print('Part 1')\n",
        "print('------')\n",
        "car = Vehicle()\n",
        "print(car)\n",
        "car.moveUp()\n",
        "print(car)\n",
        "car.moveLeft()\n",
        "print(car)\n",
        "car.moveDown()\n",
        "print(car)\n",
        "car.moveRight()\n",
        "print(car)\n",
        "print('------')\n",
        "print('Part 2')\n",
        "print('------')\n",
        "car1 = Vehicle2010()\n",
        "print(car1)\n",
        "car1.moveLowerLeft()\n",
        "print(car1)\n",
        "car2 = Vehicle2010()\n",
        "car2.moveLeft()\n",
        "print(car1.equals(car2))\n",
        "car2.moveDown()\n",
        "print(car1.equals(car2))\n"
      ],
      "metadata": {
        "colab": {
          "base_uri": "https://localhost:8080/"
        },
        "id": "UGwIIlNCw3Kh",
        "outputId": "497ac32b-facd-4516-8de8-86e072e9e304"
      },
      "execution_count": null,
      "outputs": [
        {
          "output_type": "stream",
          "name": "stdout",
          "text": [
            "Part 1\n",
            "------\n",
            "(0 , 0)\n",
            "(0 , 1)\n",
            "(-1 , 1)\n",
            "(-1 , 0)\n",
            "(0 , 0)\n",
            "------\n",
            "Part 2\n",
            "------\n",
            "(0 , 0)\n",
            "(-1 , -1)\n",
            "False\n",
            "True\n"
          ]
        }
      ]
    },
    {
      "cell_type": "code",
      "source": [
        "#TASK=3\n",
        "class Tournament:\n",
        "    def __init__(self,name='Default'):\n",
        "        self.__name = name\n",
        "    def set_name(self,name):\n",
        "        self.__name = name\n",
        "    def get_name(self):\n",
        "        return self.__name\n",
        "\n",
        "#==============================================================================================================\n",
        "class Cricket_Tournament (Tournament):\n",
        "\n",
        "    def __init__ (self, name = \"Default\", teams = 0, t = \"No type\"):\n",
        "        super().__init__(name)\n",
        "        self.teams = teams\n",
        "        self.type = t\n",
        "    def detail(self):\n",
        "        print (\"Cricket Tournament Name:\",self.get_name())\n",
        "        print (\"Number of Teams:\",self.teams)\n",
        "        return (f'''Type: {self.type}''')\n",
        "#==============================================================================================================\n",
        "class Tennis_Tournament (Tournament):\n",
        "\n",
        "    def __init__ (self, name, n):\n",
        "        self.num_player = n\n",
        "        super().__init__(name)\n",
        "    def detail (self):\n",
        "        print (\"Tennis Tournament Name:\", self.get_name())\n",
        "        return (f'''Number of Players: {self.num_player}''')\n",
        "#==============================================================================================================\n",
        "ct1 = Cricket_Tournament()\n",
        "print(ct1.detail())\n",
        "print(\"-----------------------\")\n",
        "ct2 = Cricket_Tournament(\"IPL\",10,\"t20\")\n",
        "print(ct2.detail())\n",
        "print(\"-----------------------\")\n",
        "tt = Tennis_Tournament(\"Roland Garros\",128)\n",
        "print(tt.detail())\n"
      ],
      "metadata": {
        "colab": {
          "base_uri": "https://localhost:8080/"
        },
        "id": "rQEr0bf4w3AF",
        "outputId": "8fae06b2-971d-41f1-8b21-a5d838c658ab"
      },
      "execution_count": null,
      "outputs": [
        {
          "output_type": "stream",
          "name": "stdout",
          "text": [
            "Cricket Tournament Name: Default\n",
            "Number of Teams: 0\n",
            "Type: No type\n",
            "-----------------------\n",
            "Cricket Tournament Name: IPL\n",
            "Number of Teams: 10\n",
            "Type: t20\n",
            "-----------------------\n",
            "Tennis Tournament Name: Roland Garros\n",
            "Number of Players: 128\n"
          ]
        }
      ]
    },
    {
      "cell_type": "code",
      "source": [
        "#TASK=4\n",
        "class Product:\n",
        "    def __init__(self,id, title, price):\n",
        "        self.__id = id\n",
        "        self.__title = title\n",
        "        self.__price = price\n",
        "    def get_id_title_price(self):\n",
        "        return \"ID: \"+str(self.__id)+\" Title:\"+ self.__title+        \"Price: \"+str(self.__price)\n",
        "#write your code here\n",
        "#==============================================================================================================\n",
        "class Book (Product):\n",
        "    def __init__ (self, id, title, price, isbn, publisher):\n",
        "        super().__init__(id, title, price)\n",
        "        self.isbn = isbn\n",
        "        self.publisher = publisher\n",
        "\n",
        "    def printDetail(self):\n",
        "        print (self.get_id_title_price())\n",
        "        return \"ISBN: \" + self.isbn + \" Publisher: \" + self.publisher\n",
        "\n",
        "class CD (Product):\n",
        "    def __init__ (self, id, title, price, band, duration, genre):\n",
        "        super().__init__(id, title, price)\n",
        "        self.band = band\n",
        "        self.duration = duration\n",
        "        self.genre = genre\n",
        "\n",
        "    def printDetail(self):\n",
        "        print(self.get_id_title_price())\n",
        "        return \"Band: \"+self.band+\" Duration: \"+str(self.duration)+\" Genre: \"+self.genre\n",
        "#==============================================================================================================\n",
        "book = Book(1,\"The Alchemist\",500,\"97806\",\"HarperCollins\")\n",
        "print(book.printDetail())\n",
        "print(\"-----------------------\")\n",
        "cd = CD(2,\"Shotto\",300,\"Warfaze\",50,\"Hard Rock\")\n",
        "print(cd.printDetail())\n"
      ],
      "metadata": {
        "colab": {
          "base_uri": "https://localhost:8080/"
        },
        "id": "cJSVzPAvw20z",
        "outputId": "adf75080-b382-4ac7-f09c-a9ed32711150"
      },
      "execution_count": null,
      "outputs": [
        {
          "output_type": "stream",
          "name": "stdout",
          "text": [
            "ID: 1 Title:The AlchemistPrice: 500\n",
            "ISBN: 97806 Publisher: HarperCollins\n",
            "-----------------------\n",
            "ID: 2 Title:ShottoPrice: 300\n",
            "Band: Warfaze Duration: 50 Genre: Hard Rock\n"
          ]
        }
      ]
    },
    {
      "cell_type": "code",
      "source": [
        "#TASK=5\n",
        "class Animal:\n",
        "    def __init__(self,sound):\n",
        "        self.__sound = sound\n",
        "\n",
        "    def makeSound(self):\n",
        "        return self.__sound\n",
        "\n",
        "class Printer:\n",
        "    def printSound(self, a):\n",
        "        print(a.makeSound())\n",
        "\n",
        "\n",
        "#write your code here\n",
        "class Dog (Animal):\n",
        "    #def __init__ (self, sound):\n",
        "        #super().__init__(sound)\n",
        "    pass\n",
        "class Cat (Animal):\n",
        "    #def __init__ (self, sound):\n",
        "        #super().__init__(sound)\n",
        "    pass\n",
        "\n",
        "\n",
        "d1 = Dog('bark')\n",
        "c1 = Cat('meow')\n",
        "a1 = Animal('Animal does not make sound')\n",
        "pr = Printer()\n",
        "pr.printSound(a1)\n",
        "pr.printSound(c1)\n",
        "pr.printSound(d1)\n",
        "\n"
      ],
      "metadata": {
        "colab": {
          "base_uri": "https://localhost:8080/"
        },
        "id": "_waMJKl-LhsZ",
        "outputId": "9a7a4b87-6104-4724-987e-b5addbc8a490"
      },
      "execution_count": null,
      "outputs": [
        {
          "output_type": "stream",
          "name": "stdout",
          "text": [
            "Animal does not make sound\n",
            "meow\n",
            "bark\n"
          ]
        }
      ]
    },
    {
      "cell_type": "code",
      "source": [
        "#TASK=6\n",
        "class Shape:\n",
        "\n",
        "  def __init__(self, name='Default', height=0, base=0):\n",
        "    self.area = 0\n",
        "    self.name = name\n",
        "    self.height = height\n",
        "    self.base = base\n",
        "\n",
        "  def get_height_base(self):\n",
        "    return \"Height: \"+str(self.height)+\",Base: \"+str(self.base)\n",
        "\n",
        "#==============================================================================================================\n",
        "class triangle(Shape):\n",
        "    def __init__ (self, name = \"Default\", height = 0, base = 0):\n",
        "        super().__init__(name, height, base)\n",
        "    def calcArea(self):\n",
        "        self.area = 0.5 * self.height * self.base\n",
        "        return self.area\n",
        "    def printDetail(self):\n",
        "        return (f'''Shape name: {self.name}\n",
        "Height: {self.height} Base: {self.base}\n",
        "Area: {self.area}''')\n",
        "#==============================================================================================================\n",
        "class trapezoid(Shape):\n",
        "    def __init__ (self, name, height, base, side_A):\n",
        "        super().__init__(name, height, base)\n",
        "        self.side_A = side_A\n",
        "    def calcArea(self):\n",
        "        self.area = ((self.base+self.side_A)/2)*self.height\n",
        "        return self.area\n",
        "    def printDetail (self):\n",
        "        return (f'''Shape name: {self.name}\n",
        "Height: {self.height} Base: {self.base} Side_A: {self.side_A}\n",
        "Area: {self.area}''')\n",
        "#==============================================================================================================\n",
        "\n",
        "\n",
        "tri_default = triangle()\n",
        "tri_default.calcArea()\n",
        "print(tri_default.printDetail())\n",
        "print('--------------------------')\n",
        "tri = triangle('Triangle', 10, 5)\n",
        "tri.calcArea()\n",
        "print(tri.printDetail())\n",
        "print('---------------------------')\n",
        "trap = trapezoid('Trapezoid', 10, 6, 4)\n",
        "trap.calcArea()\n",
        "print(trap.printDetail())\n"
      ],
      "metadata": {
        "colab": {
          "base_uri": "https://localhost:8080/"
        },
        "id": "rQ3nxm3-2XLY",
        "outputId": "b3c1126d-24ab-49ad-8089-3841d38a3b5c"
      },
      "execution_count": null,
      "outputs": [
        {
          "output_type": "stream",
          "name": "stdout",
          "text": [
            "Shape name: Default\n",
            "Height: 0 Base: 0 \n",
            "Area: 0.0\n",
            "--------------------------\n",
            "Shape name: Triangle\n",
            "Height: 10 Base: 5 \n",
            "Area: 25.0\n",
            "---------------------------\n",
            "Shape name: Trapezoid\n",
            "Height: 10 Base: 6 Side_A: 4 \n",
            "Area: 50.0\n"
          ]
        }
      ]
    },
    {
      "cell_type": "code",
      "source": [
        "#TASK=7\n",
        "class SportsPerson:\n",
        "\n",
        "  def __init__(self, team_name, name, role):\n",
        "    self.__team = team_name\n",
        "    self.__name = name\n",
        "    self.role = role\n",
        "    self.earning_per_match = 0\n",
        "\n",
        "  def get_name_team(self):\n",
        "    return 'Name: '+self.__name+', Team Name: ' +self.__team\n",
        "\n",
        "class Player(SportsPerson):\n",
        "    def __init__(self, team_name, name, role, goal, played):\n",
        "        super().__init__(team_name, name, role)\n",
        "        self.totalgoal = goal\n",
        "        self.totalplayed = played\n",
        "    def calculate_ratio(self):\n",
        "        self.ratio = self.totalgoal / self.totalplayed\n",
        "    def print_details(self):\n",
        "        earning = (self.totalgoal * 1000) + (self.totalplayed * 10)\n",
        "        print(super().get_name_team())\n",
        "        print(f'''Team Role: {self.role}\n",
        "Total Goal: {self.totalgoal}, Total Played: {self.totalplayed}\n",
        "Goal Ratio: {self.ratio}\n",
        "Match Earning: {earning}K''')\n",
        "\n",
        "class Manager(SportsPerson):\n",
        "    def __init__(self, team_name, name, role, win):\n",
        "        super().__init__(team_name, name, role)\n",
        "        self.win = win\n",
        "    def print_details(self):\n",
        "        earning = self.win * 1000\n",
        "        print(super().get_name_team())\n",
        "        print(f'''Team Role: {self.role}\n",
        "Win: {self.win}\n",
        "Match Earning: {earning}K''')\n",
        "\n",
        "player_one = Player('Juventus', 'Ronaldo', 'Striker', 25, 32)\n",
        "player_one.calculate_ratio()\n",
        "player_one.print_details()\n",
        "print('------------------------------------------')\n",
        "manager_one = Manager('Real Madrid', 'Zidane', 'Manager', 25)\n",
        "manager_one.print_details()\n"
      ],
      "metadata": {
        "colab": {
          "base_uri": "https://localhost:8080/"
        },
        "id": "38xtIVbcLhof",
        "outputId": "f02b81e9-c272-48d3-82f8-cc76ff1efb11"
      },
      "execution_count": null,
      "outputs": [
        {
          "output_type": "stream",
          "name": "stdout",
          "text": [
            "Name: Ronaldo, Team Name: Juventus\n",
            "Team Role: Striker\n",
            "Total Goal: 25, Total Played: 32\n",
            "Goal Ratio: 0.78125\n",
            "Match Earning: 25320K\n",
            "------------------------------------------\n",
            "Name: Zidane, Team Name: Real Madrid\n",
            "Team Role: Manager\n",
            "Win: 25\n",
            "Match Earning: 25000K\n"
          ]
        }
      ]
    }
  ]
}